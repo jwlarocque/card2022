{
 "cells": [
  {
   "cell_type": "code",
   "execution_count": 197,
   "metadata": {},
   "outputs": [],
   "source": [
    "import math\n",
    "import cv2\n",
    "import numpy as np\n",
    "from matplotlib import pyplot as plt"
   ]
  },
  {
   "cell_type": "code",
   "execution_count": 129,
   "metadata": {},
   "outputs": [],
   "source": [
    "img = cv2.imread(\"Bitmaps/test.png\")\n",
    "rgb_img = cv2.cvtColor(img, cv2.COLOR_BGR2RGB)\n",
    "gray = cv2.cvtColor(img, cv2.COLOR_BGR2GRAY)\n"
   ]
  },
  {
   "cell_type": "code",
   "execution_count": 130,
   "metadata": {},
   "outputs": [],
   "source": [
    "def show_image(img, size=6):\n",
    "    fig = plt.figure(figsize=(size, size))\n",
    "    ax = fig.add_subplot(111)\n",
    "    ax.imshow(img)\n",
    "    plt.show()"
   ]
  },
  {
   "cell_type": "code",
   "execution_count": 155,
   "metadata": {},
   "outputs": [],
   "source": [
    "def gauss_mask(img, min_delta=10, kernel_size=3, all_below=50):\n",
    "    \"\"\"Returns pixels which are darker than their neighbors.\"\"\"\n",
    "    blur = cv2.GaussianBlur(gray, (kernel_size, kernel_size), cv2.BORDER_CONSTANT)\n",
    "    diff = cv2.subtract(blur, img)\n",
    "    ret, mask = cv2.threshold(diff, min_delta, 255, cv2.THRESH_BINARY)\n",
    "    # add back large areas of very dark pixels\n",
    "    ret, dark = cv2.threshold(img, thresh=all_below, maxval=255, type=cv2.THRESH_BINARY_INV)\n",
    "    # show_image(cv2.subtract(dark, mask), size=4)\n",
    "    return mask\n",
    "    # return cv2.bitwise_or(dark, mask)"
   ]
  },
  {
   "cell_type": "code",
   "execution_count": 173,
   "metadata": {},
   "outputs": [
    {
     "data": {
      "image/png": "[encoded data removed]",
      "text/plain": [
       "<Figure size 400x400 with 1 Axes>"
      ]
     },
     "metadata": {},
     "output_type": "display_data"
    }
   ],
   "source": [
    "mask = gauss_mask(gray, min_delta=15, all_below=50).astype(bool)\n",
    "show_image(mask, size=4)"
   ]
  },
  {
   "cell_type": "code",
   "execution_count": 419,
   "metadata": {},
   "outputs": [],
   "source": [
    "def random_start_coords(arr:np.ndarray):\n",
    "    \"\"\"Returns the coordinates of a random True in the given 2d array of booleans.\"\"\"\n",
    "    x, y = np.nonzero(arr) # TODO: incorporate taken/sofar\n",
    "    i = np.random.randint(0, len(x))\n",
    "    return x[i], y[i]"
   ]
  },
  {
   "cell_type": "code",
   "execution_count": 448,
   "metadata": {},
   "outputs": [],
   "source": [
    "def get_score(prev, curr, next):\n",
    "    \"\"\"\n",
    "    TODO: simplify this\n",
    "    \"\"\"\n",
    "    print(prev, curr, next) # TODO: remove debug\n",
    "    this_v = np.array([next[0] - curr[0], next[1] - curr[1]]) # (x2 - x1, y2 - y1)\n",
    "    last_v = np.array([curr[0] - prev[0], curr[1] - prev[1]]) # (x1 - x0, y1 - y0)\n",
    "    return np.dot(this_v, last_v) / np.dot(last_v, last_v) / np.dot(this_v, this_v)\n",
    "\n",
    "def get_score_old(prev_x, prev_y, curr_x, curr_y, next_x, next_y):\n",
    "    curr = np.array([next_x - curr_x, next_y - curr_y]) # (x2 - x1, y2 - y1)\n",
    "    prev = np.array([curr_x - prev_x, curr_y - prev_y]) # (x1 - x0, y1 - y0)\n",
    "    return np.dot(curr, prev) / np.dot(prev, prev) / np.dot(curr, curr)"
   ]
  },
  {
   "cell_type": "code",
   "execution_count": 421,
   "metadata": {},
   "outputs": [],
   "source": [
    "start = random_start_coords(mask)"
   ]
  },
  {
   "cell_type": "code",
   "execution_count": 422,
   "metadata": {},
   "outputs": [],
   "source": [
    "taken = np.zeros((len(mask), len(mask[0])), dtype=bool)"
   ]
  },
  {
   "cell_type": "code",
   "execution_count": 423,
   "metadata": {},
   "outputs": [],
   "source": [
    "def window_edges(center, nrows, ncols, size=9):\n",
    "    x = center[0]\n",
    "    y = center[1]\n",
    "    miny = max(y - size // 2, 0)\n",
    "    maxy = min(y + size // 2, nrows)\n",
    "    minx = max(x - size // 2, 0)\n",
    "    maxx = min(x + size // 2, ncols)\n",
    "    return (miny, maxy, minx, maxx)"
   ]
  },
  {
   "cell_type": "code",
   "execution_count": 441,
   "metadata": {},
   "outputs": [],
   "source": [
    "def window(arr, center, window_size=3):\n",
    "    miny, maxy, minx, maxx = window_edges(center, len(arr), len(arr[0]), window_size)\n",
    "    return arr[miny:maxy + 1, minx:maxx + 1]\n",
    "\n",
    "def window_mask(arr, center, window_size=3):\n",
    "    miny, maxy, minx, maxx = window_edges(center, len(arr), len(arr[0]), window_size)\n",
    "    out = np.zeros_like(arr)\n",
    "    out[miny:maxy + 1, minx:maxx + 1] = True\n",
    "    return out\n",
    "    \n",
    "\n",
    "def best_neighbor(arr, curr, prev, window_size=3):\n",
    "    # TODO: more permanent taken assignment\n",
    "    taken[prev[1]][prev[0]] = True\n",
    "    taken[curr[1]][curr[0]] = True\n",
    "\n",
    "    miny, maxy, minx, maxx = window_edges(curr, len(arr), len(arr[0]), window_size)\n",
    "    best = None\n",
    "    best_score = 0\n",
    "    for x in range(minx, maxx + 1):\n",
    "        for y in range(miny, maxy + 1):\n",
    "            if taken[y][x]:\n",
    "                continue\n",
    "            if arr[y][x]:\n",
    "                score = get_score(prev, curr, (x, y))\n",
    "                if score > best_score:\n",
    "                    best = (x, y)\n",
    "                    best_score = score\n",
    "    return best, best_score"
   ]
  },
  {
   "cell_type": "code",
   "execution_count": 455,
   "metadata": {},
   "outputs": [],
   "source": [
    "def best_combined(arr, curr, prev=None, window_size=3):\n",
    "    taken[curr[1]][curr[0]] = True\n",
    "    if prev:\n",
    "        taken[prev[1]][prev[0]] = True\n",
    "    miny, maxy, minx, maxx = window_edges(curr, len(arr), len(arr[0]), window_size)\n",
    "    best_prev = None\n",
    "    best_next = None\n",
    "    best_score = 0\n",
    "    for x in range(minx, maxx + 1):\n",
    "        for y in range(miny, maxy + 1):\n",
    "            # not a dark pixel, skip\n",
    "            if not arr[y][x]:\n",
    "                continue\n",
    "            # already in a path, skip\n",
    "            if taken[y][x]:\n",
    "                continue\n",
    "            # if not prev, work backwards with x, y as its next\n",
    "            this_prev = prev or best_combined(arr, curr, (x, y), window_size)[1]\n",
    "            if not this_prev:\n",
    "                continue\n",
    "            score = get_score(this_prev, curr, (x, y))\n",
    "            if score > best_score:\n",
    "                best_next = (x, y)\n",
    "                best_prev = this_prev\n",
    "                best_score = score\n",
    "    return best_prev, best_next, best_score"
   ]
  },
  {
   "cell_type": "code",
   "execution_count": 434,
   "metadata": {},
   "outputs": [],
   "source": [
    "def best_first(arr, curr, window_size=9):\n",
    "    taken[curr[1]][curr[0]] = True\n",
    "\n",
    "    miny, maxy, minx, maxx = window_edges(curr, len(arr), len(arr[0]), window_size)\n",
    "    best_prev = None\n",
    "    best_next = None\n",
    "    best_score = 0\n",
    "    for prev_x in range(minx, maxx + 1):\n",
    "        for prev_y in range(miny, maxy + 1):\n",
    "            # pixel is already in a path, skip\n",
    "            if taken[prev_y][prev_x]:\n",
    "                continue\n",
    "            # only look at dark pixels\n",
    "            if arr[prev_y][prev_x]:\n",
    "                # for this prev, get best next\n",
    "                next, score = best_neighbor(arr, curr, (prev_x, prev_y), window_size)\n",
    "                # not necessary? score should be commutative\n",
    "                # # find score of prev, backwards from the best next\n",
    "                # prev_score = get_score(\n",
    "                #     prev_x=next_x, prev_y=next_y,\n",
    "                #     curr_x=curr_x, curr_y=curr_y,\n",
    "                #     x=prev_x, y=prev_y)\n",
    "                if score > best_score:\n",
    "                    best_prev = (prev_x, prev_y)\n",
    "                    best_next = next\n",
    "                    best_score = score\n",
    "    return best_prev, best_next"
   ]
  },
  {
   "cell_type": "code",
   "execution_count": 435,
   "metadata": {},
   "outputs": [
    {
     "data": {
      "text/plain": [
       "((15, 22), (18, 21))"
      ]
     },
     "execution_count": 435,
     "metadata": {},
     "output_type": "execute_result"
    }
   ],
   "source": [
    "taken = np.zeros((len(mask), len(mask[0])), dtype=bool)\n",
    "\n",
    "best_first(mask, (16, 22), window_size=9)"
   ]
  },
  {
   "cell_type": "code",
   "execution_count": 456,
   "metadata": {},
   "outputs": [
    {
     "name": "stdout",
     "output_type": "stream",
     "text": [
      "(15, 22) (16, 22) (18, 21)\n",
      "(15, 22) (16, 22) (19, 20)\n",
      "(15, 22) (16, 22) (20, 18)\n",
      "(18, 21) (16, 22) (15, 22)\n",
      "(18, 21) (16, 22) (19, 20)\n",
      "(18, 21) (16, 22) (20, 18)\n",
      "(19, 20) (16, 22) (20, 18)\n"
     ]
    },
    {
     "data": {
      "text/plain": [
       "((18, 21), (15, 22), 0.4)"
      ]
     },
     "execution_count": 456,
     "metadata": {},
     "output_type": "execute_result"
    }
   ],
   "source": [
    "taken = np.zeros((len(mask), len(mask[0])), dtype=bool)\n",
    "\n",
    "best_combined(mask, (16, 22), None, window_size=9)"
   ]
  },
  {
   "cell_type": "code",
   "execution_count": 437,
   "metadata": {},
   "outputs": [],
   "source": [
    "taken = np.zeros((len(mask), len(mask[0])), dtype=bool)\n",
    "\n",
    "prev = (15, 22)\n",
    "curr = (16, 22)\n",
    "found = []\n",
    "while curr is not None:\n",
    "    found.append(curr)\n",
    "    next, _ = best_neighbor(mask, curr, prev, window_size=11)\n",
    "    prev = curr\n",
    "    curr = next\n"
   ]
  },
  {
   "cell_type": "code",
   "execution_count": 438,
   "metadata": {},
   "outputs": [],
   "source": [
    "found_img = np.zeros_like(mask)\n",
    "for (x, y) in found:\n",
    "    found_img[y][x] = True"
   ]
  },
  {
   "cell_type": "code",
   "execution_count": 442,
   "metadata": {},
   "outputs": [
    {
     "data": {
      "image/png": "[encoded data removed]",
      "text/plain": [
       "<Figure size 600x600 with 1 Axes>"
      ]
     },
     "metadata": {},
     "output_type": "display_data"
    }
   ],
   "source": [
    "#window(mask, 18, 12, 5))\n",
    "import matplotlib.cm as cm\n",
    "curr_cmap = cm.Reds\n",
    "curr_cmap.set_under('k', alpha=0)\n",
    "found_cmap = cm.Greens\n",
    "found_cmap.set_under('k', alpha=0)\n",
    "fig = plt.figure(figsize=(6, 6))\n",
    "ax = fig.add_subplot(111)\n",
    "ax.imshow(mask, \"gray\")\n",
    "ax.imshow(window_mask(mask, (16, 22), 11), curr_cmap, alpha=0.5, clim=[0.9, 1])\n",
    "ax.imshow(window_mask(mask, (16, 22), 1), curr_cmap, clim=[0.9, 1])\n",
    "ax.imshow(found_img, found_cmap, clim=[0.9, 1])\n",
    "plt.show()"
   ]
  },
  {
   "cell_type": "code",
   "execution_count": 154,
   "metadata": {},
   "outputs": [
    {
     "data": {
      "text/plain": [
       "<Scalar image, BIN, sizes {50, 50}>"
      ]
     },
     "execution_count": 154,
     "metadata": {},
     "output_type": "execute_result"
    }
   ],
   "source": [
    "import diplib as dip\n",
    "\n",
    "sk = dip.EuclideanSkeleton(mask.astype(bool), endPixelCondition=\"three neighbors\")\n",
    "sk"
   ]
  },
  {
   "cell_type": "code",
   "execution_count": 141,
   "metadata": {},
   "outputs": [
    {
     "name": "stdout",
     "output_type": "stream",
     "text": [
      "Found 13 contours\n",
      "Length average: 8.76923076923077, median: 6.0\n"
     ]
    },
    {
     "data": {
      "image/png": "[encoded data removed]",
      "text/plain": [
       "<Figure size 400x400 with 1 Axes>"
      ]
     },
     "metadata": {},
     "output_type": "display_data"
    }
   ],
   "source": [
    "result_fill = np.ones(img.shape, np.uint8) * 255\n",
    "result_borders = np.zeros(img.shape, np.uint8)\n",
    "\n",
    "contours = cv2.findContours(mask, cv2.RETR_LIST, cv2.CHAIN_APPROX_SIMPLE)[0][:-1]\n",
    "print(f\"Found {len(contours)} contours\")\n",
    "lens = [len(contour) for contour in contours]\n",
    "print(f\"Length average: {sum(lens) / len(contours)}, median: {np.median(lens)}\")\n",
    "for contour in contours:\n",
    "    cv2.drawContours(result_fill, [contour], -1, 0, 1)\n",
    "    cv2.drawContours(result_borders, [contour], -1, list(np.random.random(size=3) * 256), 1)\n",
    "# cv2.drawContours(result_fill, contours, -1, 0, -1)\n",
    "# cv2.drawContours(result_borders, contours, -1, 255, 1)\n",
    "\n",
    "result = result_fill ^ result_borders\n",
    "\n",
    "show_image(result_borders, 4)"
   ]
  },
  {
   "cell_type": "code",
   "execution_count": 134,
   "metadata": {},
   "outputs": [],
   "source": [
    "low_threshold = 50\n",
    "high_threshold = 150\n",
    "edges = cv2.Canny(gray, low_threshold, high_threshold)"
   ]
  },
  {
   "cell_type": "code",
   "execution_count": 135,
   "metadata": {},
   "outputs": [
    {
     "data": {
      "text/plain": [
       "<matplotlib.image.AxesImage at 0x20ef5f9f070>"
      ]
     },
     "execution_count": 135,
     "metadata": {},
     "output_type": "execute_result"
    },
    {
     "data": {
      "image/png": "[encoded data removed]",
      "text/plain": [
       "<Figure size 640x480 with 1 Axes>"
      ]
     },
     "metadata": {},
     "output_type": "display_data"
    }
   ],
   "source": [
    "plt.imshow(edges)"
   ]
  },
  {
   "cell_type": "code",
   "execution_count": null,
   "metadata": {},
   "outputs": [],
   "source": []
  }
 ],
 "metadata": {
  "kernelspec": {
   "display_name": "Python 3.10.8 ('plotter310')",
   "language": "python",
   "name": "python3"
  },
  "language_info": {
   "codemirror_mode": {
    "name": "ipython",
    "version": 3
   },
   "file_extension": ".py",
   "mimetype": "text/x-python",
   "name": "python",
   "nbconvert_exporter": "python",
   "pygments_lexer": "ipython3",
   "version": "3.10.8"
  },
  "orig_nbformat": 4,
  "vscode": {
   "interpreter": {
    "hash": "f9fb5ebc16d6cf6111a8d197f9b0da99658e1985ec9b44cb01e7e32e95f081a7"
   }
  }
 },
 "nbformat": 4,
 "nbformat_minor": 2
}
